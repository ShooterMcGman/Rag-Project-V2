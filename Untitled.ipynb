{
 "cells": [
  {
   "cell_type": "code",
   "execution_count": 13,
   "id": "a4108bcc-d7ab-4e87-bc8e-e905da89876a",
   "metadata": {},
   "outputs": [
    {
     "name": "stdout",
     "output_type": "stream",
     "text": [
      "Created: D:\\Dad Work\\AI Overall\\Rag Project V2\\src\\utils\\git_utils.py\n"
     ]
    }
   ],
   "source": [
    "import os\n",
    "\n",
    "# Define the file path for git_utils.py\n",
    "git_utils_path = r\"D:\\Dad Work\\AI Overall\\Rag Project V2\\src\\utils\\git_utils.py\"\n",
    "\n",
    "# Ensure the directory exists\n",
    "os.makedirs(os.path.dirname(git_utils_path), exist_ok=True)\n",
    "\n",
    "# Write a placeholder function into git_utils.py with UTF-8 encoding\n",
    "with open(git_utils_path, \"w\", encoding=\"utf-8\") as f:\n",
    "    f.write('''\n",
    "import subprocess\n",
    "\n",
    "def auto_commit_push(commit_message):\n",
    "    \"\"\"\n",
    "    Automatically stages, commits, and pushes changes to the GitHub repository.\n",
    "\n",
    "    Args:\n",
    "        commit_message (str): A message describing the changes made in the commit.\n",
    "    \"\"\"\n",
    "    try:\n",
    "        # Stage all changes\n",
    "        subprocess.run([\"git\", \"add\", \".\"], check=True)\n",
    "        # Commit changes\n",
    "        subprocess.run([\"git\", \"commit\", \"-m\", commit_message], check=True)\n",
    "        # Push to the master branch\n",
    "        subprocess.run([\"git\", \"push\", \"origin\", \"master\"], check=True)\n",
    "        print(\"✅ Changes committed and pushed successfully!\")\n",
    "    except subprocess.CalledProcessError as e:\n",
    "        print(f\"❌ Error during git operation: {e}\")\n",
    "    ''')\n",
    "print(f\"Created: {git_utils_path}\")\n"
   ]
  },
  {
   "cell_type": "code",
   "execution_count": null,
   "id": "2c6a58b4-2874-46bd-bf8e-0518779ab0a5",
   "metadata": {},
   "outputs": [],
   "source": []
  },
  {
   "cell_type": "code",
   "execution_count": null,
   "id": "48ae27fd-d67a-4559-8ec3-ca2f7fc58718",
   "metadata": {},
   "outputs": [],
   "source": []
  }
 ],
 "metadata": {
  "kernelspec": {
   "display_name": "Python (toc_project)",
   "language": "python",
   "name": "toc_project"
  },
  "language_info": {
   "codemirror_mode": {
    "name": "ipython",
    "version": 3
   },
   "file_extension": ".py",
   "mimetype": "text/x-python",
   "name": "python",
   "nbconvert_exporter": "python",
   "pygments_lexer": "ipython3",
   "version": "3.11.11"
  }
 },
 "nbformat": 4,
 "nbformat_minor": 5
}
